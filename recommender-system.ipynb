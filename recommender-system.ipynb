{
 "cells": [
  {
   "cell_type": "markdown",
   "id": "dadabe1c-7f07-4192-896a-15bd1fd0df62",
   "metadata": {},
   "source": [
    "## Importing required libraries and modules"
   ]
  },
  {
   "cell_type": "code",
   "execution_count": 1,
   "id": "7ccc509d-0d44-44e2-aa7e-19e82863b9b7",
   "metadata": {},
   "outputs": [],
   "source": [
    "import copy\n",
    "import random\n",
    "import numpy as np\n",
    "import pandas as pd\n",
    "from tqdm.notebook import tqdm\n",
    "import matplotlib.pyplot as plt\n",
    "from sklearn.model_selection import train_test_split\n",
    "from sklearn import model_selection, metrics, preprocessing\n",
    "\n",
    "import torch\n",
    "from torch import nn, optim, Tensor\n",
    "from torch_sparse import SparseTensor, matmul\n",
    "from torch_geometric.utils import structured_negative_sampling\n",
    "from torch_geometric.data import download_url, extract_zip\n",
    "from torch_geometric.nn.conv.gcn_conv import gcn_norm\n",
    "from torch_geometric.nn.conv import MessagePassing\n",
    "from torch_geometric.typing import Adj"
   ]
  },
  {
   "cell_type": "markdown",
   "id": "5ee31ab1-a233-463e-88da-aeca96f1313c",
   "metadata": {},
   "source": [
    "## Load Dataset"
   ]
  },
  {
   "cell_type": "code",
   "execution_count": 6,
   "id": "a6a4e034-5f2a-4241-a10c-371b87dc6577",
   "metadata": {},
   "outputs": [
    {
     "name": "stderr",
     "output_type": "stream",
     "text": [
      "Downloading https://files.grouplens.org/datasets/movielens/ml-latest-small.zip\n",
      "Extracting ./ml-latest-small.zip\n"
     ]
    }
   ],
   "source": [
    "url = 'https://files.grouplens.org/datasets/movielens/ml-latest-small.zip'\n",
    "extract_zip(download_url(url, '.'), '.')"
   ]
  },
  {
   "cell_type": "code",
   "execution_count": 2,
   "id": "36895d4a-e925-46c5-827d-516a99813107",
   "metadata": {},
   "outputs": [],
   "source": [
    "movie_path = './ml-latest-small/movies.csv'\n",
    "rating_path = './ml-latest-small/ratings.csv'\n",
    "user_path = './ml-latest-small/links.csv'"
   ]
  },
  {
   "cell_type": "code",
   "execution_count": 3,
   "id": "4240dda9-0277-489c-a8dc-1dc3a0c87ea0",
   "metadata": {},
   "outputs": [
    {
     "name": "stdout",
     "output_type": "stream",
     "text": [
      "   userId  movieId  rating  timestamp\n",
      "0       1        1     4.0  964982703\n",
      "1       1        3     4.0  964981247\n",
      "2       1        6     4.0  964982224\n",
      "3       1       47     5.0  964983815\n",
      "4       1       50     5.0  964982931\n",
      "9724\n",
      "610\n"
     ]
    },
    {
     "data": {
      "text/html": [
       "<div>\n",
       "<style scoped>\n",
       "    .dataframe tbody tr th:only-of-type {\n",
       "        vertical-align: middle;\n",
       "    }\n",
       "\n",
       "    .dataframe tbody tr th {\n",
       "        vertical-align: top;\n",
       "    }\n",
       "\n",
       "    .dataframe thead th {\n",
       "        text-align: right;\n",
       "    }\n",
       "</style>\n",
       "<table border=\"1\" class=\"dataframe\">\n",
       "  <thead>\n",
       "    <tr style=\"text-align: right;\">\n",
       "      <th></th>\n",
       "      <th>userId</th>\n",
       "      <th>movieId</th>\n",
       "      <th>rating</th>\n",
       "      <th>timestamp</th>\n",
       "    </tr>\n",
       "  </thead>\n",
       "  <tbody>\n",
       "    <tr>\n",
       "      <th>count</th>\n",
       "      <td>100836.000000</td>\n",
       "      <td>100836.000000</td>\n",
       "      <td>100836.000000</td>\n",
       "      <td>1.008360e+05</td>\n",
       "    </tr>\n",
       "    <tr>\n",
       "      <th>mean</th>\n",
       "      <td>326.127564</td>\n",
       "      <td>19435.295718</td>\n",
       "      <td>3.501557</td>\n",
       "      <td>1.205946e+09</td>\n",
       "    </tr>\n",
       "    <tr>\n",
       "      <th>std</th>\n",
       "      <td>182.618491</td>\n",
       "      <td>35530.987199</td>\n",
       "      <td>1.042529</td>\n",
       "      <td>2.162610e+08</td>\n",
       "    </tr>\n",
       "    <tr>\n",
       "      <th>min</th>\n",
       "      <td>1.000000</td>\n",
       "      <td>1.000000</td>\n",
       "      <td>0.500000</td>\n",
       "      <td>8.281246e+08</td>\n",
       "    </tr>\n",
       "    <tr>\n",
       "      <th>25%</th>\n",
       "      <td>177.000000</td>\n",
       "      <td>1199.000000</td>\n",
       "      <td>3.000000</td>\n",
       "      <td>1.019124e+09</td>\n",
       "    </tr>\n",
       "    <tr>\n",
       "      <th>50%</th>\n",
       "      <td>325.000000</td>\n",
       "      <td>2991.000000</td>\n",
       "      <td>3.500000</td>\n",
       "      <td>1.186087e+09</td>\n",
       "    </tr>\n",
       "    <tr>\n",
       "      <th>75%</th>\n",
       "      <td>477.000000</td>\n",
       "      <td>8122.000000</td>\n",
       "      <td>4.000000</td>\n",
       "      <td>1.435994e+09</td>\n",
       "    </tr>\n",
       "    <tr>\n",
       "      <th>max</th>\n",
       "      <td>610.000000</td>\n",
       "      <td>193609.000000</td>\n",
       "      <td>5.000000</td>\n",
       "      <td>1.537799e+09</td>\n",
       "    </tr>\n",
       "  </tbody>\n",
       "</table>\n",
       "</div>"
      ],
      "text/plain": [
       "              userId        movieId         rating     timestamp\n",
       "count  100836.000000  100836.000000  100836.000000  1.008360e+05\n",
       "mean      326.127564   19435.295718       3.501557  1.205946e+09\n",
       "std       182.618491   35530.987199       1.042529  2.162610e+08\n",
       "min         1.000000       1.000000       0.500000  8.281246e+08\n",
       "25%       177.000000    1199.000000       3.000000  1.019124e+09\n",
       "50%       325.000000    2991.000000       3.500000  1.186087e+09\n",
       "75%       477.000000    8122.000000       4.000000  1.435994e+09\n",
       "max       610.000000  193609.000000       5.000000  1.537799e+09"
      ]
     },
     "execution_count": 3,
     "metadata": {},
     "output_type": "execute_result"
    }
   ],
   "source": [
    "rating_df = pd.read_csv(rating_path)\n",
    "print(rating_df.head())\n",
    "\n",
    "print(len(rating_df['movieId'].unique()))\n",
    "print(len(rating_df['userId'].unique()))\n",
    "\n",
    "rating_df.describe()"
   ]
  },
  {
   "cell_type": "code",
   "execution_count": 4,
   "id": "55ff74fa-c152-42ee-8d9c-710a20a185fc",
   "metadata": {},
   "outputs": [],
   "source": [
    "# As we can see that the userId starts from 1 all the way upto 610.\n",
    "# Whereas the movieId goes from 1 to 193609, so we need to do some processing\n",
    "label_user = preprocessing.LabelEncoder()\n",
    "label_movie = preprocessing.LabelEncoder()\n",
    "\n",
    "rating_df.userId = label_user.fit_transform(rating_df.userId.values)\n",
    "rating_df.movieId = label_user.fit_transform(rating_df.movieId.values)"
   ]
  },
  {
   "cell_type": "code",
   "execution_count": 5,
   "id": "b50fe305-d12b-48bb-96d3-e7b8f56197d7",
   "metadata": {},
   "outputs": [
    {
     "name": "stdout",
     "output_type": "stream",
     "text": [
      "609\n",
      "9723\n"
     ]
    }
   ],
   "source": [
    "print(rating_df.userId.max())\n",
    "print(rating_df.movieId.max())"
   ]
  },
  {
   "cell_type": "code",
   "execution_count": 6,
   "id": "6f2ef3b4-5beb-4bdd-8cef-2ac1044cd891",
   "metadata": {},
   "outputs": [
    {
     "data": {
      "text/plain": [
       "rating\n",
       "4.0    26818\n",
       "3.0    20047\n",
       "5.0    13211\n",
       "3.5    13136\n",
       "4.5     8551\n",
       "2.0     7551\n",
       "2.5     5550\n",
       "1.0     2811\n",
       "1.5     1791\n",
       "0.5     1370\n",
       "Name: count, dtype: int64"
      ]
     },
     "execution_count": 6,
     "metadata": {},
     "output_type": "execute_result"
    }
   ],
   "source": [
    "rating_df.rating.value_counts()"
   ]
  },
  {
   "cell_type": "code",
   "execution_count": 7,
   "id": "696e985f-91bc-4a72-8572-cdfa96e4d140",
   "metadata": {},
   "outputs": [],
   "source": [
    "# Load edges between users and movies\n",
    "def load_edge_csv(df,\n",
    "                 src_index_col,\n",
    "                 dst_index_col,\n",
    "                 link_index_col,\n",
    "                 rating_threshold=3):\n",
    "    \"\"\"Loads csv containing edges between users and items\n",
    "        \n",
    "    Args:\n",
    "        src_index_col (str): column name of users \n",
    "        dst_index_col (str): column name of items\n",
    "        link_index_col (str): column name of user item interaction\n",
    "        rating_threshold (int, optional): Threshold to determine positivity of edge. Defaults to 4.\n",
    "    \n",
    "    Returns:\n",
    "        list of list: edge_index -- 2 by N matrix containing the node ids of N user-item edges\n",
    "        N here is the number of interactions\n",
    "    \"\"\"\n",
    "\n",
    "    edge_index = None\n",
    "\n",
    "    # Constructing COO format edge_index from input raing events\n",
    "    \n",
    "    # Get user_ids from rating events in the order of occurence\n",
    "    src = [user_id for user_id in df['userId']]\n",
    "    # Get movie_ids from rating events in the order of occurence\n",
    "    dst = [(movie_id) for movie_id in df['movieId']]\n",
    "\n",
    "    # Apply rating threshold\n",
    "    edge_attr = torch.from_numpy(df[link_index_col].values).view(-1, 1).to(torch.long) >= rating_threshold\n",
    "\n",
    "    edge_index = [[], []]\n",
    "    for i in range (edge_attr. shape[0]) :\n",
    "        if edge_attr[i]:\n",
    "            edge_index[0].append(src[i])\n",
    "            edge_index[1].append(dst[i])\n",
    "    return edge_index"
   ]
  },
  {
   "cell_type": "code",
   "execution_count": 8,
   "id": "7402e182-2f04-4ca2-818a-a9a04e81dc80",
   "metadata": {},
   "outputs": [
    {
     "name": "stdout",
     "output_type": "stream",
     "text": [
      "2 x 48580\n"
     ]
    }
   ],
   "source": [
    "edge_index = load_edge_csv(\n",
    "    rating_df,\n",
    "    src_index_col='userId',\n",
    "    dst_index_col='movieId',\n",
    "    link_index_col='rating',\n",
    "    rating_threshold=3.5,\n",
    ")\n",
    "\n",
    "print(f\"{len(edge_index)} x {len(edge_index[0])}\")"
   ]
  },
  {
   "cell_type": "code",
   "execution_count": 9,
   "id": "b333b0c6-ea49-46f2-a844-234185a3b130",
   "metadata": {},
   "outputs": [
    {
     "name": "stdout",
     "output_type": "stream",
     "text": [
      "tensor([[   0,    0,    0,  ...,  609,  609,  609],\n",
      "        [   0,    2,    5,  ..., 9443, 9444, 9445]])\n",
      "torch.Size([2, 48580])\n"
     ]
    }
   ],
   "source": [
    "# Convert to Tensor:\n",
    "## We use LongTensor here because the .propagate() method in the model needs either LongTensor or SparseTensor\n",
    "edge_index = torch.LongTensor(edge_index)\n",
    "print(edge_index)\n",
    "print(edge_index.size())"
   ]
  },
  {
   "cell_type": "code",
   "execution_count": 10,
   "id": "6b09b809-eaa4-42a9-a6b6-0a8a314baaec",
   "metadata": {},
   "outputs": [],
   "source": [
    "# This is the total num_users and num_movies before we apply the rating_threshold\n",
    "num_users = len(rating_df['userId'].unique())\n",
    "num_movies = len(rating_df['movieId'].unique())"
   ]
  },
  {
   "cell_type": "code",
   "execution_count": 11,
   "id": "7545f450-ff5f-49c0-89fb-5bb430970dbd",
   "metadata": {},
   "outputs": [],
   "source": [
    "num_interactions = edge_index.shape[1]\n",
    "\n",
    "# Split the edges of the graph using a 80/10/10 train/test/validation split\n",
    "all_indices = [i for i in range(num_interactions)]\n",
    "\n",
    "train_indices, test_indices = train_test_split(all_indices,\n",
    "                                               test_size=0.2,\n",
    "                                               random_state=1)\n",
    "\n",
    "val_indices, test_indices = train_test_split(test_indices,\n",
    "                                             test_size=0.5,\n",
    "                                             random_state=1)\n",
    "\n",
    "train_edge_index = edge_index[: ,train_indices]\n",
    "val_edge_index = edge_index[:, val_indices]\n",
    "test_edge_index = edge_index[:, test_indices]"
   ]
  },
  {
   "cell_type": "code",
   "execution_count": 12,
   "id": "b44ae039-fa2d-433f-8119-bbcce89d911e",
   "metadata": {},
   "outputs": [
    {
     "name": "stdout",
     "output_type": "stream",
     "text": [
      "Number of users: 610\n",
      "Number of movies: 9724\n",
      "Number of interactions: 48580\n",
      "Train edge index: tensor([[ 605,  110,  442,  ...,   65,  161,  427],\n",
      "        [1110, 9619, 1283,  ..., 4640,  443,  827]])\n",
      "10334\n",
      "torch.Size([609])\n",
      "torch.Size([5676])\n"
     ]
    }
   ],
   "source": [
    "print(f\"Number of users: {num_users}\\nNumber of movies: {num_movies}\\nNumber of interactions: {num_interactions}\")\n",
    "print(f\"Train edge index: {train_edge_index}\")\n",
    "print((num_users + num_movies))\n",
    "print(torch.unique(train_edge_index[0]).size())\n",
    "print(torch.unique(train_edge_index[1]).size())"
   ]
  },
  {
   "cell_type": "code",
   "execution_count": 13,
   "id": "4a0688d1-c185-42fa-94a1-49300762cae6",
   "metadata": {},
   "outputs": [],
   "source": [
    "def convert_r_mat_edge_index_to_adj_mat_edge_index(input_edge_index):\n",
    "    R = torch.zeros((num_users, num_movies))\n",
    "    for i in range(len(input_edge_index[0])):\n",
    "        row_idx = input_edge_index[0][i]\n",
    "        col_idx = input_edge_index[1][i]\n",
    "        R[row_idx][col_idx] = 1\n",
    "\n",
    "    R_transpose = torch.transpose(R, 0, 1)\n",
    "    adj_mat = torch.zeros((num_users + num_movies , num_users + num_movies))\n",
    "    adj_mat[: num_users, num_users :] = R.clone()\n",
    "    adj_mat[num_users :, : num_users] = R_transpose.clone()\n",
    "    adj_mat_coo = adj_mat.to_sparse_coo()\n",
    "    adj_mat_coo = adj_mat_coo.indices()\n",
    "    return adj_mat_coo"
   ]
  },
  {
   "cell_type": "code",
   "execution_count": 14,
   "id": "9905f6a7-38bc-4a90-9e8d-30b12fea1c42",
   "metadata": {},
   "outputs": [],
   "source": [
    "def convert_adj_mat_edge_index_to_r_mat_edge_index(input_edge_index):\n",
    "    sparse_input_edge_index = SparseTensor(row=input_edge_index[0],\n",
    "                                          col=input_edge_index[1],\n",
    "                                          sparse_sizes=((num_users + num_movies), num_users + num_movies))\n",
    "    adj_mat = sparse_input_edge_index.to_dense()\n",
    "    interact_mat = adj_mat[: num_users, num_users :]\n",
    "    r_mat_edge_index = interact_mat.to_sparse_coo().indices()\n",
    "    return r_mat_edge_index"
   ]
  },
  {
   "cell_type": "code",
   "execution_count": 15,
   "id": "9c324171-326c-44c9-95b7-32444299c110",
   "metadata": {},
   "outputs": [],
   "source": [
    "# Convert from r_mat (interaction matrix) edge index to adjacency matrix edge index\n",
    "# For further model feed\n",
    "train_edge_index = convert_r_mat_edge_index_to_adj_mat_edge_index(train_edge_index)\n",
    "val_edge_index = convert_r_mat_edge_index_to_adj_mat_edge_index(val_edge_index)\n",
    "test_edge_index = convert_r_mat_edge_index_to_adj_mat_edge_index(test_edge_index)"
   ]
  },
  {
   "cell_type": "code",
   "execution_count": 16,
   "id": "eb14382b-ed4d-45cb-9ad2-d8dfdc913bd9",
   "metadata": {},
   "outputs": [
    {
     "name": "stdout",
     "output_type": "stream",
     "text": [
      "tensor([[    0,     0,     0,  ..., 10326, 10327, 10333],\n",
      "        [  610,   612,   653,  ...,   183,   183,   330]])\n",
      "torch.Size([2, 77728])\n",
      "tensor([[    0,     0,     0,  ..., 10226, 10236, 10240],\n",
      "        [  615,   794,  2010,  ...,   317,   204,   413]])\n",
      "torch.Size([2, 9716])\n",
      "tensor([[    0,     0,     0,  ..., 10301, 10302, 10329],\n",
      "        [  811,  1086,  1095,  ...,   585,   585,   183]])\n",
      "torch.Size([2, 9716])\n"
     ]
    }
   ],
   "source": [
    "print(train_edge_index)\n",
    "print(train_edge_index.size())\n",
    "print(val_edge_index)\n",
    "print(val_edge_index.size())\n",
    "print(test_edge_index)\n",
    "print(test_edge_index.size())"
   ]
  },
  {
   "cell_type": "code",
   "execution_count": 17,
   "id": "22509c81-0c28-4433-a0ec-5fa798bf41ce",
   "metadata": {},
   "outputs": [],
   "source": [
    "# Helper function for training and computer BPR loss\n",
    "# Since this is a self-supervised learning, we are relying on the graph structure itself and\n",
    "# We don't have labels other than the graph structure so we need the following function\n",
    "# Which random samples a mini-batch of positive and negative samples\n",
    "def sample_mini_batch(batch_size, edge_index):\n",
    "    \"\"\"Randomly samples indices of a mini-batch given an adjacency matrix\n",
    "    \n",
    "    Args:\n",
    "        batch_size (int): mini-batch size\n",
    "        edge_index (torch.Tensor): 2 by N list of edges\n",
    "\n",
    "    Returns:\n",
    "        tuple: user indices, positive item indices, negative item indices\n",
    "    \"\"\"\n",
    "    edges = structured_negative_sampling(edge_index)\n",
    "\n",
    "    # 3 x edge_index_len\n",
    "    edges = torch.stack(edges, dim=0)\n",
    "\n",
    "    # Here is whem we actually perform the batch sampling\n",
    "    # Returns a k-sized list of population elements chosen with replacement\n",
    "    indices = random.choices([i for i in range(edges[0].shape[0])], k=batch_size)\n",
    "\n",
    "    batch = edges[:, indices]\n",
    "\n",
    "    user_indices, pos_item_indices, neg_item_indices = batch[0], batch[1], batch[2]\n",
    "    return user_indices, pos_item_indices, neg_item_indices"
   ]
  },
  {
   "cell_type": "markdown",
   "id": "718097ba-f669-4f56-a647-96577f44d191",
   "metadata": {},
   "source": [
    "## Implementing LightGCN"
   ]
  },
  {
   "cell_type": "code",
   "execution_count": 18,
   "id": "a52f9658-dd13-4bb3-981c-ed68ff64a234",
   "metadata": {},
   "outputs": [],
   "source": [
    "class LightGCN(MessagePassing):\n",
    "    def __init__(self, num_users,\n",
    "                 num_items,\n",
    "                 embedding_dim=64,\n",
    "                 K=3,\n",
    "                 add_self_loops=False):\n",
    "        \"\"\"Initializes LightGCN Model\n",
    "        \n",
    "        Args:\n",
    "            num_users (int): Number of users\n",
    "            num_items (int): Number of items\n",
    "            embedding_dim (int, optional): Dimensionality of embeddins. Defaults to 8\n",
    "            K (int, optional): Number of message passing layer. Defaults to 3.\n",
    "            add_self_loops (bool, optional): Whether to add self loops for message passing. Defaults to False.\n",
    "        \"\"\"\n",
    "        super().__init__()\n",
    "        self.num_users = num_users\n",
    "        self.num_items = num_items\n",
    "        self.embedding_dim = embedding_dim\n",
    "        self.K = K\n",
    "        self.add_self_loops = add_self_loops\n",
    "\n",
    "        # Define user and item embedding for user look up\n",
    "        # Embedding dimension: num_user/num_item x embedding_dim\n",
    "\n",
    "        self.users_emb = nn.Embedding(num_embeddings=self.num_users, embedding_dim = self.embedding_dim) # e_u^0\n",
    "        self.items_emb = nn.Embedding(num_embeddings=self.num_items, embedding_dim = self.embedding_dim) # e_i^0\n",
    "\n",
    "        # The input Tensor should have the value of the normal distribution\n",
    "        # It gives better performance according to LightGCN Paper\n",
    "        nn.init.normal_(self.users_emb.weight, std=0.1)\n",
    "        nn.init.normal_(self.items_emb.weight, std=0.1)\n",
    "\n",
    "    def forward(self, edge_index: Tensor):\n",
    "        \"\"\"Forward propagation of LightGCN Model.\n",
    "\n",
    "        Args:\n",
    "            edge_index (SparseTensor): adjacency matrix\n",
    "\n",
    "        Returns:\n",
    "            tuple (Tensor): e_u_k, e_u_0, e_i_k, e_i_0\n",
    "        \"\"\"\n",
    "\n",
    "\n",
    "        \"\"\"\n",
    "            compute \\tilde{A}: symmetrically normalized adjacency matrix\n",
    "            \\tilde_A = D^(-1/2) * A * D^(-1/2)    according to LightGCN paper\n",
    "        \n",
    "            this is essentially a metrix operation way to get 1/ (sqrt(n_neighbors_i) * sqrt(n_neighbors_j))\n",
    "\n",
    "        \n",
    "            if your original edge_index look like\n",
    "            tensor([[   0,    0,    0,  ...,  609,  609,  609],\n",
    "                    [   0,    2,    5,  ..., 9444, 9445, 9485]])\n",
    "                    \n",
    "                    torch.Size([2, 99466])\n",
    "                    \n",
    "            then this will output: \n",
    "                (\n",
    "                 tensor([[   0,    0,    0,  ...,  609,  609,  609],\n",
    "                         [   0,    2,    5,  ..., 9444, 9445, 9485]]), \n",
    "                 tensor([0.0047, 0.0096, 0.0068,  ..., 0.0592, 0.0459, 0.1325])\n",
    "                 )\n",
    "                 \n",
    "              where edge_index_norm[0] is just the original edge_index\n",
    "              \n",
    "              and edge_index_norm[1] is the symmetrically normalization term. \n",
    "              \n",
    "            under the hood it's basically doing\n",
    "                def compute_gcn_norm(edge_index, emb):\n",
    "                    emb = emb.weight\n",
    "                    from_, to_ = edge_index\n",
    "                    deg = degree(to_, emb.size(0), dtype=emb.dtype)\n",
    "                    deg_inv_sqrt = deg.pow(-0.5)\n",
    "                    deg_inv_sqrt[deg_inv_sqrt == float('inf')] = 0\n",
    "                    norm = deg_inv_sqrt[from_] * deg_inv_sqrt[to_]\n",
    "\n",
    "                    return norm\n",
    "                 \n",
    "                \n",
    "        \"\"\"\n",
    "        edge_index_norm = gcn_norm(edge_index=edge_index, \n",
    "                        add_self_loops=self.add_self_loops)\n",
    "\n",
    "        # Concat the user_emb with the item_emb as the layer0 embedding matrix\n",
    "        # Size will be (n_users + n_items) x emb_vector_len e.g.: 10334 x 64\n",
    "        emb_0 = torch.concat([self.users_emb.weight, self.items_emb.weight]) # E^0\n",
    "\n",
    "        embs = [emb_0] # Save the layer0 emb to the embs list\n",
    "\n",
    "        # emb_k is the emb that we are actually going to push it through the graph layers\n",
    "        # as described in the LightGCN Paper: formula 7\n",
    "        emb_k = emb_0\n",
    "\n",
    "        # Push the embedding of all users and items throught the graph model K times\n",
    "        # K is the number of layers\n",
    "        for i in range(self.K):\n",
    "            emb_k = self.propagate(edge_index=edge_index_norm[0], x=emb_k, norm=edge_index_norm[1])\n",
    "            embs.append(emb_k)\n",
    "        # This is going to be formula 8 in the paper\n",
    "\n",
    "        # The stack embs is a list of embedding matrix at each layer\n",
    "        # It's of shape n_nodes x (n_layers + 1) x emb_vector_len\n",
    "        # E.g.: torch.Size([10344, 4, 64])\n",
    "        embs = torch.stack(embs, dim=1)\n",
    "\n",
    "        # From LightGCN paper: \"In our experiments, we find that setting α_k uniformly as 1/(K + 1)\n",
    "        # leads to good performance in general.\"\n",
    "        emb_final = torch.mean(embs, dim=1) # E^K\n",
    "\n",
    "        # Split into e_u^K and e_i^K\n",
    "        users_emb_final, items_emb_final = torch.split(emb_final, [self.num_users, self.num_items])\n",
    "\n",
    "        # Returns e_u^K, e_u^0, e_i^K, e_i^0\n",
    "        # Here using .weight to get the Tensor weights from n.Embedding\n",
    "        return users_emb_final, self.users_emb.weight, items_emb_final, self.items_emb.weight\n",
    "\n",
    "    def message(self, x_j, norm):\n",
    "        # x_j is of shape:  edge_index_len x emb_vector_len\n",
    "        #    e.g: torch.Size([77728, 64]\n",
    "\n",
    "        # x_j is basically the embedding of all the neighbors based on the src_list in coo edge index\n",
    "\n",
    "        # elementwise multiply by the symmetrically norm. So it's essentiall what formula 7 in LightGCN\n",
    "        # paper does but here we are using edge_index rather than Adj Matrix\n",
    "        return norm.view(-1, 1) * x_j\n",
    "\n",
    "layers = 3\n",
    "model = LightGCN(num_users=num_users,\n",
    "                 num_items=num_movies,\n",
    "                 K=layers)"
   ]
  },
  {
   "cell_type": "markdown",
   "id": "08733d71-d7c5-46bf-9ccd-eaf7bb9115f2",
   "metadata": {},
   "source": [
    "# Loss Function"
   ]
  },
  {
   "cell_type": "code",
   "execution_count": 19,
   "id": "798c5f6c-6786-4ff7-a72b-48836dc1cefe",
   "metadata": {},
   "outputs": [],
   "source": [
    "def bpr_loss(users_emb_final,\n",
    "            users_emb_0,\n",
    "            pos_items_emb_final,\n",
    "            pos_items_emb_0,\n",
    "            neg_items_emb_final,\n",
    "            neg_items_emb_0,\n",
    "            lambda_val):\n",
    "    \"\"\"Bayesian Personalized Ranking Loss as described in https://arxiv.org/abs/1205.2618\n",
    "\n",
    "    Args:\n",
    "        users_emb_final (torch.Tensor): e_u_k\n",
    "        users_emb_0 (torch.Tensor): e_u_0\n",
    "        pos_items_emb_final (torch.Tensor): positive e_i_k\n",
    "        pos_items_emb_0 (torch.Tensor): positive e_i_0\n",
    "        neg_items_emb_final (torch.Tensor): negative e_i_k\n",
    "        neg_items_emb_0 (torch.Tensor): negative e_i_0\n",
    "        lambda_val (float): lambda value for regularization loss term\n",
    "\n",
    "    Returns:\n",
    "        torch.Tensor: scalar bpr loss value\n",
    "    \"\"\"\n",
    "    reg_loss = lambda_val * (users_emb_0.norm(2).pow(2) +\n",
    "                             pos_items_emb_0.norm(2).pow(2) +\n",
    "                             neg_items_emb_0.norm(2).pow(2)) # L2 loss\n",
    "\n",
    "    pos_scores = torch.mul(users_emb_final, pos_items_emb_final)\n",
    "    pos_scores = torch.sum(pos_scores, dim=-1) # Predicted scores of positive samples\n",
    "    neg_scores = torch.mul(users_emb_final, neg_items_emb_final)\n",
    "    neg_scores = torch.sum(neg_scores, dim=-1) # Predicted scores of negative samples\n",
    "\n",
    "    bpr_loss = -torch.mean(torch.nn.functional.softplus(pos_scores - neg_scores))\n",
    "\n",
    "    loss = bpr_loss + reg_loss\n",
    "\n",
    "    return loss"
   ]
  },
  {
   "cell_type": "markdown",
   "id": "30cbf5d6-34b1-401a-b031-382ff6995d10",
   "metadata": {},
   "source": [
    "# Evaluation Metrics"
   ]
  },
  {
   "cell_type": "code",
   "execution_count": 20,
   "id": "46888cc5-0697-4221-a42b-0cb0516e350e",
   "metadata": {},
   "outputs": [],
   "source": [
    "def get_user_positive_items(edge_index):\n",
    "    \"\"\"\n",
    "    Generates dictionary of positive items for each user\n",
    "\n",
    "    Args:\n",
    "        edge_index (torch.Tensor): 2 by N list of edges \n",
    "\n",
    "    Returns:\n",
    "        dict: user -> list of positive items for each \n",
    "    \"\"\"\n",
    "    # Key: user_id, Val: item_id list\n",
    "    user_pos_items = {}\n",
    "\n",
    "    for i in range(edge_index.shape[1]):\n",
    "        user = edge_index[0][i].item()\n",
    "        item = edge_index[1][i].item()\n",
    "\n",
    "        if user not in user_pos_items:\n",
    "            user_pos_items[user] = []\n",
    "\n",
    "        user_pos_items[user].append(item)\n",
    "\n",
    "    return user_pos_items"
   ]
  },
  {
   "cell_type": "code",
   "execution_count": 21,
   "id": "54129f26-ad3a-4d05-88c3-4428cc7b05e6",
   "metadata": {},
   "outputs": [],
   "source": [
    "def RecallPrecision_ATk(groundTruth, r, k):\n",
    "    \"\"\"Computers recall @ k and precision @ k\n",
    "\n",
    "    Args:\n",
    "        groundTruth (list[list[long]]): list of lists of item_ids. Cntaining highly rated items of each user. \n",
    "                            In other words, this is the list of true_relevant_items for each user\n",
    "                            \n",
    "        r (list[list[boolean]]): list of lists indicating whether each top k item recommended to each user\n",
    "                            is a top k ground truth (true relevant) item or not\n",
    "                            \n",
    "        k (int): determines the top k items to compute precision and recall on\n",
    "\n",
    "    Returns:\n",
    "        tuple: recall @ k, precision @ k\n",
    "    \"\"\"\n",
    "    # Number of correctly predicted items per user\n",
    "    num_correct_pred = torch.sum(r, dim=-1)\n",
    "    # -1 here means I want to sum at the innermost dimension\n",
    "\n",
    "    # Number of items liked by each user in the test set\n",
    "    user_num_liked = torch.Tensor([len(groundTruth[i]) for i in range(len(groundTruth))])\n",
    "\n",
    "    recall = torch.mean(num_correct_pred / user_num_liked)\n",
    "    precision = torch.mean(num_correct_pred) / k\n",
    "\n",
    "    return recall.item(), precision.item()"
   ]
  },
  {
   "cell_type": "code",
   "execution_count": 22,
   "id": "74f371a6-9f98-4faf-a064-c22e267bc8a0",
   "metadata": {},
   "outputs": [],
   "source": [
    "def NDCGatK_r(groundTruth, r, k):\n",
    "    \"\"\"Computes Normalized Discounted Cumulative Gain (NDCG) @ k\n",
    "\n",
    "    Args:\n",
    "        groundTruth (list): list of lists containing highly rated items of each user\n",
    "        r (list): list of lists indicating whether each top k item recommended to each user\n",
    "            is a top k ground truth item or not\n",
    "        k (int): determines the top k items to compute ndcg on\n",
    "\n",
    "    Returns:\n",
    "        float: ndcg @ k\n",
    "    \"\"\"\n",
    "    assert len(r) == len(groundTruth)\n",
    "\n",
    "    test_matrix = torch.zeros((len(r), k))\n",
    "\n",
    "    for i, items in enumerate(groundTruth):\n",
    "        length = min(len(items), k)\n",
    "        test_matrix[i, :length] = 1\n",
    "\n",
    "    max_r = test_matrix\n",
    "    idcg = torch.sum(max_r * 1. / torch.log2(torch.arange(2, k + 2)), axis=1)\n",
    "    dcg = r * (1. / torch.log2(torch.arange(2, k + 2)))\n",
    "    dcg = torch.sum(dcg, axis=1)\n",
    "    idcg[idcg == 0.] = 1.\n",
    "    ndcg = dcg / idcg\n",
    "    ndcg[torch.isnan(ndcg)] = 0.\n",
    "\n",
    "    return torch.mean(ndcg).item()"
   ]
  },
  {
   "cell_type": "code",
   "execution_count": 24,
   "id": "78eecbb7-9627-4c21-8c11-6bdc6b11b9e3",
   "metadata": {},
   "outputs": [],
   "source": [
    "def get_metrics(model,\n",
    "                input_edge_index, # adj_mat based edge index\n",
    "                input_exclude_edge_indices, # adj_mat based exclude edge index\n",
    "                k):\n",
    "    \"\"\"Computes the evaluation metrics: recall, precision, and ndcg @ k\n",
    "\n",
    "    Args:\n",
    "        model (LighGCN): lightgcn model\n",
    "        \n",
    "        edge_index (torch.Tensor): 2 by N list of edges for split to evaluate\n",
    "        \n",
    "        exclude_edge_indices ([type]): 2 by N list of edges for split to discount from evaluation\n",
    "        \n",
    "        k (int): determines the top k items to compute metrics on\n",
    "\n",
    "    Returns:\n",
    "        tuple: recall @ k, precision @ k, ndcg @ k\n",
    "    \"\"\"\n",
    "    # Get the embedding tensor at layer 0 after training\n",
    "    user_embedding = model.users_emb.weight\n",
    "    item_embedding = model.items_emb.weight\n",
    "\n",
    "    # Convert adj_mat based edge index to r_mat based edge index so we have the\n",
    "    # first list being user_ids and the second list being item_ids for the edge index\n",
    "    edge_index = convert_adj_mat_edge_index_to_r_mat_edge_index(input_edge_index)\n",
    "\n",
    "    # This is to exclude the edges we have seen before in our predicted interaction matrix (r_mat_rating)\n",
    "    # E.g.: For validation set, we want to exclude all the edges from the training set\n",
    "    exclude_edge_indices = [convert_adj_mat_edge_index_to_r_mat_edge_index(exclude_edge_index) \\\n",
    "                           for exclude_edge_index in input_exclude_edge_indices]\n",
    "\n",
    "    # Generate predicted interaction matrix (r_mat_rating)    \n",
    "    # (num_users x 64) dot_product (num_item x 64).T \n",
    "    r_mat_rating = torch.matmul(user_embedding, item_embedding.T)\n",
    "    \n",
    "    # shape: num_users x num_item\n",
    "    rating = r_mat_rating\n",
    "   \n",
    "    for exclude_edge_index in exclude_edge_indices:\n",
    "        # gets all the positive items for each user from the edge index\n",
    "        # it's a dict: user -> positive item list\n",
    "        user_pos_items = get_user_positive_items(exclude_edge_index)\n",
    "        \n",
    "        # get coordinates of all edges to exclude\n",
    "        exclude_users = []\n",
    "        exclude_items = []\n",
    "        for user, items in user_pos_items.items():\n",
    "            # [user] * len(item) can give us [user1, user1, user1...] with len of len(item)\n",
    "            # this makes easier to do the masking below\n",
    "            exclude_users.extend([user] * len(items))\n",
    "            exclude_items.extend(items)\n",
    "   \n",
    "        # set the excluded entry in the rat_mat_rating matrix to a very small number\n",
    "        rating[exclude_users, exclude_items] = -(1 << 10) \n",
    "\n",
    "    # get the top k recommended items for each user\n",
    "    _, top_K_items = torch.topk(rating, k=k)\n",
    "\n",
    "    # get all unique users in evaluated split\n",
    "    users = edge_index[0].unique()\n",
    "\n",
    "    # dict of user -> pos_item list\n",
    "    test_user_pos_items = get_user_positive_items(edge_index)\n",
    "\n",
    "    # convert test user pos items dictionary into a list of lists\n",
    "    test_user_pos_items_list = [test_user_pos_items[user.item()] for user in users]\n",
    "\n",
    "    # Here r is \"pred_relevant_items ∩ actually_relevant_items\" list for each user\n",
    "    r = []\n",
    "    for user in users:\n",
    "        user_true_relevant_item = test_user_pos_items[user.item()]\n",
    "        # list of Booleans to store whether or not a given item in the top_K_items for a given user \n",
    "        # is also present in user_true_relevant_item.\n",
    "        # this is later on used to compute n_rel_and_rec_k\n",
    "        label = list(map(lambda x: x in user_true_relevant_item, top_K_items[user]))\n",
    "        r.append(label)\n",
    "\n",
    "    r = torch.Tensor(np.array(r).astype('float'))\n",
    "\n",
    "    recall, precision = RecallPrecision_ATk(test_user_pos_items_list, r, k)\n",
    "    ndcg = NDCGatK_r(test_user_pos_items_list, r, k)\n",
    "\n",
    "    return recall, precision, ndcg"
   ]
  },
  {
   "cell_type": "code",
   "execution_count": 25,
   "id": "796e4262-a4d4-49df-bd74-3562a16000f2",
   "metadata": {},
   "outputs": [],
   "source": [
    "def evaluation(model,\n",
    "              edge_index, # adj_mat based edge index\n",
    "              exclude_edge_indices, # # adj_mat based exclude edge index\n",
    "              k,\n",
    "              lambda_val):\n",
    "    \"\"\" Evaluates model loss and metrics include recall, precision, ndcg @ k\n",
    "\n",
    "    Args:\n",
    "        model (LightGCN): lightgcn model\n",
    "        edge_index (torch.Tensor): 2 by N list of edges for split to evaluate\n",
    "        sparse_edge_index (sparseTensor): sparse adjacency matrix for split to evaluate\n",
    "        exclude_edge_indices ([type]): 2 by N list of edges for split to discount from evaluation\n",
    "        k (int): determines the top k items to compute metrics on\n",
    "        lambda_val (float): determines lambda for bpr loss\n",
    "\n",
    "    Returns:\n",
    "        tuple: bpr loss, recall @ k, precision @ k, ndcg @ k\n",
    "    \"\"\"\n",
    "    # get embeddings\n",
    "    users_emb_final, users_emb_0, items_emb_final, items_emb_0 = model.forward(edge_index)\n",
    "    r_mat_edge_index = convert_adj_mat_edge_index_to_r_mat_edge_index(edge_index)\n",
    "    edges = structured_negative_sampling(r_mat_edge_index, contains_neg_self_loops=False)\n",
    "    user_indices, pos_item_indices, neg_item_indices = edges[0], edges[1], edges[2]\n",
    "    users_emb_final, users_emb_0 = users_emb_final[user_indices], users_emb_0[user_indices]\n",
    "    pos_item_emb_final, pos_item_emb_0 = items_emb_final[pos_item_indices], items_emb_0[pos_item_indices]\n",
    "    neg_item_emb_final, neg_item_emb_0 = items_emb_final[neg_item_indices], items_emb_0[neg_item_indices]\n",
    "\n",
    "    loss = bpr_loss(users_emb_final,\n",
    "                   users_emb_0, \n",
    "                   pos_item_emb_final, \n",
    "                   pos_item_emb_0, \n",
    "                   neg_item_emb_final, \n",
    "                   neg_item_emb_0, \n",
    "                   lambda_val).item()\n",
    "\n",
    "    recall, precision, ndcg = get_metrics(model, \n",
    "                                         edge_index, \n",
    "                                         exclude_edge_indices, \n",
    "                                         k)\n",
    "\n",
    "    return loss, recall, precision, ndcg"
   ]
  },
  {
   "cell_type": "markdown",
   "id": "3577dbb8-0349-4e02-b660-2cb73818c2af",
   "metadata": {},
   "source": [
    "# Training"
   ]
  },
  {
   "cell_type": "code",
   "execution_count": 26,
   "id": "69ea07a2-0372-40c7-aefb-a063c2904b91",
   "metadata": {},
   "outputs": [],
   "source": [
    "# define constants\n",
    "ITERATIONS = 10000\n",
    "EPOCHS = 10\n",
    "BATCH_SIZE = 1024\n",
    "LR = 1e-3\n",
    "ITERS_PER_EVAL = 200\n",
    "ITERS_PER_LR_DECAY = 200\n",
    "K = 20\n",
    "LAMBDA = 1e-6"
   ]
  },
  {
   "cell_type": "code",
   "execution_count": 27,
   "id": "08d97555-2f5e-413c-adba-3ee54cdb0745",
   "metadata": {},
   "outputs": [
    {
     "name": "stdout",
     "output_type": "stream",
     "text": [
      "Using device cpu\n"
     ]
    }
   ],
   "source": [
    "# Can't use MPS device as The operator 'aten::_to_sparse' is not currently implemented for the MPS device.\n",
    "# device = torch.device(\"mps\" if torch.backends.mps.is_available() else \"cpu\")\n",
    "device = torch.device(\"cpu\")\n",
    "print(f'Using device {device}')\n",
    "\n",
    "model = model.to(device)\n",
    "model.train()\n",
    "\n",
    "optimizer = optim.Adam(model.parameters(), lr=LR)\n",
    "scheduler = optim.lr_scheduler.ExponentialLR(optimizer, gamma=0.95)\n",
    "\n",
    "edge_index = edge_index.to(device)\n",
    "train_edge_index = train_edge_index.to(device)\n",
    "val_edge_index = val_edge_index.to(device)"
   ]
  },
  {
   "cell_type": "code",
   "execution_count": 29,
   "id": "90c22535-ec47-417a-bce0-97ac824a0fdd",
   "metadata": {},
   "outputs": [],
   "source": [
    "def get_embs_for_bpr(model, input_edge_index):\n",
    "    users_emb_final, users_emb_0, items_emb_final, items_emb_0 = model.forward(input_edge_index)\n",
    "\n",
    "    edge_index_to_use = convert_adj_mat_edge_index_to_r_mat_edge_index(input_edge_index)\n",
    "\n",
    "    # mini batching for eval and calculating loss\n",
    "    user_indices, pos_item_indices, neg_item_indices = sample_mini_batch(BATCH_SIZE, edge_index_to_use)\n",
    "\n",
    "    # This is to push tensor to device so if we are using GPU\n",
    "    user_indices, pos_item_indices, neg_item_indices = user_indices.to(device), pos_item_indices.to(device), neg_item_indices.to(device)\n",
    "\n",
    "    # We need layer0 embeddings and the final embeddings (computed from 0..K layer) for BPR loss computing\n",
    "    users_emb_final, users_emb_0 = users_emb_final[user_indices], users_emb_0[user_indices]\n",
    "    pos_item_emb_final, pos_item_emb_0 = items_emb_final[pos_item_indices], items_emb_0[pos_item_indices]\n",
    "    neg_item_emb_final, neg_item_emb_0 = items_emb_final[neg_item_indices], items_emb_0[neg_item_indices]\n",
    "\n",
    "    return users_emb_final, users_emb_0, pos_item_emb_final, pos_item_emb_0, neg_item_emb_final, neg_item_emb_0"
   ]
  },
  {
   "cell_type": "code",
   "execution_count": 30,
   "id": "5d28d424-4548-4324-ae8c-71b732dcc3fd",
   "metadata": {},
   "outputs": [
    {
     "data": {
      "application/vnd.jupyter.widget-view+json": {
       "model_id": "981751ac7a144c999c570941edc67ca5",
       "version_major": 2,
       "version_minor": 0
      },
      "text/plain": [
       "  0%|          | 0/10000 [00:00<?, ?it/s]"
      ]
     },
     "metadata": {},
     "output_type": "display_data"
    },
    {
     "name": "stdout",
     "output_type": "stream",
     "text": [
      "[Iteration 0/10000] train_loss: -0.69324, val_loss: -0.69946, val_recall@20: 0.00279, val_precision@20: 0.00081, val_ndcg@20: 0.00165\n",
      "[Iteration 200/10000] train_loss: -7.31261, val_loss: -5.15973, val_recall@20: 0.07755, val_precision@20: 0.02613, val_ndcg@20: 0.0541\n",
      "[Iteration 400/10000] train_loss: -28.71433, val_loss: -21.21527, val_recall@20: 0.10398, val_precision@20: 0.03282, val_ndcg@20: 0.06898\n",
      "[Iteration 600/10000] train_loss: -59.93578, val_loss: -45.06866, val_recall@20: 0.10577, val_precision@20: 0.03562, val_ndcg@20: 0.07699\n",
      "[Iteration 800/10000] train_loss: -104.11571, val_loss: -74.20974, val_recall@20: 0.10907, val_precision@20: 0.03779, val_ndcg@20: 0.07865\n",
      "[Iteration 1000/10000] train_loss: -147.5554, val_loss: -108.11965, val_recall@20: 0.1214, val_precision@20: 0.03888, val_ndcg@20: 0.08276\n",
      "[Iteration 1200/10000] train_loss: -202.3356, val_loss: -144.80489, val_recall@20: 0.12013, val_precision@20: 0.03996, val_ndcg@20: 0.08125\n",
      "[Iteration 1400/10000] train_loss: -254.50233, val_loss: -183.89217, val_recall@20: 0.1231, val_precision@20: 0.04078, val_ndcg@20: 0.08379\n",
      "[Iteration 1600/10000] train_loss: -311.55444, val_loss: -226.40199, val_recall@20: 0.13633, val_precision@20: 0.04295, val_ndcg@20: 0.09021\n",
      "[Iteration 1800/10000] train_loss: -340.30508, val_loss: -266.06168, val_recall@20: 0.13302, val_precision@20: 0.04231, val_ndcg@20: 0.09289\n",
      "[Iteration 2000/10000] train_loss: -419.82254, val_loss: -309.07819, val_recall@20: 0.13392, val_precision@20: 0.04141, val_ndcg@20: 0.09242\n",
      "[Iteration 2200/10000] train_loss: -478.23477, val_loss: -347.11929, val_recall@20: 0.12992, val_precision@20: 0.04186, val_ndcg@20: 0.09166\n",
      "[Iteration 2400/10000] train_loss: -507.29266, val_loss: -388.38577, val_recall@20: 0.13051, val_precision@20: 0.04213, val_ndcg@20: 0.09202\n",
      "[Iteration 2600/10000] train_loss: -601.82135, val_loss: -427.87277, val_recall@20: 0.13558, val_precision@20: 0.04231, val_ndcg@20: 0.09402\n",
      "[Iteration 2800/10000] train_loss: -620.0014, val_loss: -465.31296, val_recall@20: 0.13459, val_precision@20: 0.0425, val_ndcg@20: 0.09415\n",
      "[Iteration 3000/10000] train_loss: -666.46716, val_loss: -502.11868, val_recall@20: 0.13581, val_precision@20: 0.04286, val_ndcg@20: 0.09482\n",
      "[Iteration 3200/10000] train_loss: -751.21893, val_loss: -541.75812, val_recall@20: 0.13557, val_precision@20: 0.04322, val_ndcg@20: 0.09606\n",
      "[Iteration 3400/10000] train_loss: -811.3905, val_loss: -579.06732, val_recall@20: 0.1358, val_precision@20: 0.04304, val_ndcg@20: 0.09596\n",
      "[Iteration 3600/10000] train_loss: -863.17273, val_loss: -611.75708, val_recall@20: 0.13533, val_precision@20: 0.04313, val_ndcg@20: 0.09494\n",
      "[Iteration 3800/10000] train_loss: -871.23932, val_loss: -645.33856, val_recall@20: 0.13518, val_precision@20: 0.04304, val_ndcg@20: 0.09596\n",
      "[Iteration 4000/10000] train_loss: -913.55884, val_loss: -684.43005, val_recall@20: 0.13696, val_precision@20: 0.04313, val_ndcg@20: 0.09552\n",
      "[Iteration 4200/10000] train_loss: -981.38129, val_loss: -707.87085, val_recall@20: 0.13523, val_precision@20: 0.04313, val_ndcg@20: 0.09513\n",
      "[Iteration 4400/10000] train_loss: -1012.55597, val_loss: -741.41132, val_recall@20: 0.13588, val_precision@20: 0.04349, val_ndcg@20: 0.09569\n",
      "[Iteration 4600/10000] train_loss: -1072.29053, val_loss: -776.43762, val_recall@20: 0.13489, val_precision@20: 0.04313, val_ndcg@20: 0.09668\n",
      "[Iteration 4800/10000] train_loss: -1104.55505, val_loss: -791.54785, val_recall@20: 0.13591, val_precision@20: 0.0434, val_ndcg@20: 0.09665\n",
      "[Iteration 5000/10000] train_loss: -1121.19458, val_loss: -820.6084, val_recall@20: 0.13487, val_precision@20: 0.04304, val_ndcg@20: 0.09653\n",
      "[Iteration 5200/10000] train_loss: -1177.64819, val_loss: -855.83813, val_recall@20: 0.13713, val_precision@20: 0.04313, val_ndcg@20: 0.09693\n",
      "[Iteration 5400/10000] train_loss: -1205.84912, val_loss: -874.99768, val_recall@20: 0.13677, val_precision@20: 0.04367, val_ndcg@20: 0.09656\n",
      "[Iteration 5600/10000] train_loss: -1208.15601, val_loss: -894.71802, val_recall@20: 0.13662, val_precision@20: 0.0434, val_ndcg@20: 0.09761\n",
      "[Iteration 5800/10000] train_loss: -1247.74951, val_loss: -905.33368, val_recall@20: 0.13612, val_precision@20: 0.04331, val_ndcg@20: 0.09747\n",
      "[Iteration 6000/10000] train_loss: -1310.37866, val_loss: -942.88611, val_recall@20: 0.13651, val_precision@20: 0.0434, val_ndcg@20: 0.0977\n",
      "[Iteration 6200/10000] train_loss: -1344.40698, val_loss: -961.78906, val_recall@20: 0.13639, val_precision@20: 0.0434, val_ndcg@20: 0.09769\n",
      "[Iteration 6400/10000] train_loss: -1336.13782, val_loss: -976.7467, val_recall@20: 0.13989, val_precision@20: 0.04349, val_ndcg@20: 0.09833\n",
      "[Iteration 6600/10000] train_loss: -1408.69141, val_loss: -1002.04736, val_recall@20: 0.13756, val_precision@20: 0.04358, val_ndcg@20: 0.09811\n",
      "[Iteration 6800/10000] train_loss: -1418.7124, val_loss: -1021.33252, val_recall@20: 0.14123, val_precision@20: 0.04394, val_ndcg@20: 0.09875\n",
      "[Iteration 7000/10000] train_loss: -1453.30591, val_loss: -1039.73633, val_recall@20: 0.14085, val_precision@20: 0.04358, val_ndcg@20: 0.09847\n",
      "[Iteration 7200/10000] train_loss: -1446.39282, val_loss: -1052.91736, val_recall@20: 0.13955, val_precision@20: 0.04376, val_ndcg@20: 0.09838\n",
      "[Iteration 7400/10000] train_loss: -1490.32922, val_loss: -1066.61096, val_recall@20: 0.13983, val_precision@20: 0.04412, val_ndcg@20: 0.09852\n",
      "[Iteration 7600/10000] train_loss: -1534.74988, val_loss: -1069.9679, val_recall@20: 0.14114, val_precision@20: 0.04394, val_ndcg@20: 0.09881\n",
      "[Iteration 7800/10000] train_loss: -1506.40955, val_loss: -1093.92468, val_recall@20: 0.1406, val_precision@20: 0.04367, val_ndcg@20: 0.0986\n",
      "[Iteration 8000/10000] train_loss: -1469.19714, val_loss: -1116.51819, val_recall@20: 0.14102, val_precision@20: 0.04376, val_ndcg@20: 0.09887\n",
      "[Iteration 8200/10000] train_loss: -1507.97314, val_loss: -1111.04285, val_recall@20: 0.14108, val_precision@20: 0.04385, val_ndcg@20: 0.09898\n",
      "[Iteration 8400/10000] train_loss: -1562.85938, val_loss: -1145.37354, val_recall@20: 0.14113, val_precision@20: 0.04394, val_ndcg@20: 0.099\n",
      "[Iteration 8600/10000] train_loss: -1560.90784, val_loss: -1144.11475, val_recall@20: 0.14074, val_precision@20: 0.04412, val_ndcg@20: 0.09904\n",
      "[Iteration 8800/10000] train_loss: -1574.34631, val_loss: -1152.97449, val_recall@20: 0.13964, val_precision@20: 0.04394, val_ndcg@20: 0.09871\n",
      "[Iteration 9000/10000] train_loss: -1618.3457, val_loss: -1172.89587, val_recall@20: 0.14054, val_precision@20: 0.04403, val_ndcg@20: 0.09895\n",
      "[Iteration 9200/10000] train_loss: -1592.89832, val_loss: -1178.22864, val_recall@20: 0.14235, val_precision@20: 0.04412, val_ndcg@20: 0.09933\n",
      "[Iteration 9400/10000] train_loss: -1689.2666, val_loss: -1193.6062, val_recall@20: 0.14261, val_precision@20: 0.04421, val_ndcg@20: 0.09946\n",
      "[Iteration 9600/10000] train_loss: -1606.97693, val_loss: -1195.65503, val_recall@20: 0.141, val_precision@20: 0.04421, val_ndcg@20: 0.0991\n",
      "[Iteration 9800/10000] train_loss: -1596.87891, val_loss: -1200.05261, val_recall@20: 0.1408, val_precision@20: 0.04412, val_ndcg@20: 0.09908\n"
     ]
    }
   ],
   "source": [
    "# Training loop\n",
    "train_losses = []\n",
    "val_losses = []\n",
    "val_recall_at_ks = []\n",
    "\n",
    "for iter in tqdm(range(ITERATIONS)):\n",
    "    # Forward propagation\n",
    "    users_emb_final, users_emb_0, pos_item_emb_final, pos_item_emb_0, neg_item_emb_final, neg_item_emb_0 \\\n",
    "                = get_embs_for_bpr(model, train_edge_index)\n",
    "\n",
    "    # Loss Computation\n",
    "    train_loss = bpr_loss(users_emb_final,\n",
    "                           users_emb_0, \n",
    "                           pos_item_emb_final, \n",
    "                           pos_item_emb_0, \n",
    "                           neg_item_emb_final, \n",
    "                           neg_item_emb_0, \n",
    "                           LAMBDA)\n",
    "\n",
    "    optimizer.zero_grad()\n",
    "    train_loss.backward()\n",
    "    optimizer.step()\n",
    "\n",
    "    # Validation set\n",
    "    if iter % ITERS_PER_EVAL == 0:\n",
    "        model.eval()\n",
    "\n",
    "        with torch.no_grad():\n",
    "            val_loss, recall, precision, ndcg = evaluation(model,\n",
    "                                                           val_edge_index,\n",
    "                                                           [train_edge_index],\n",
    "                                                           K,\n",
    "                                                           LAMBDA)\n",
    "            print(f\"[Iteration {iter}/{ITERATIONS}] train_loss: {round(train_loss.item(), 5)}, val_loss: {round(val_loss, 5)}, val_recall@{K}: {round(recall, 5)}, val_precision@{K}: {round(precision, 5)}, val_ndcg@{K}: {round(ndcg, 5)}\")\n",
    "    \n",
    "            train_losses.append(train_loss.item())\n",
    "            val_losses.append(val_loss)\n",
    "            val_recall_at_ks.append(round(recall, 5))\n",
    "        model.train()\n",
    "\n",
    "    if iter % ITERS_PER_LR_DECAY == 0 and iter != 0:\n",
    "        scheduler.step()"
   ]
  },
  {
   "cell_type": "code",
   "execution_count": 31,
   "id": "9ff32419-3fff-4338-a561-4e158d1180be",
   "metadata": {},
   "outputs": [
    {
     "data": {
      "image/png": "[encoded data removed]",
      "text/plain": [
       "<Figure size 640x480 with 1 Axes>"
      ]
     },
     "metadata": {},
     "output_type": "display_data"
    }
   ],
   "source": [
    "iters = [iter * ITERS_PER_EVAL for iter in range(len(train_losses))]\n",
    "plt.plot(iters, train_losses, label='train')\n",
    "plt.plot(iters, val_losses, label='validation')\n",
    "plt.xlabel('iteration')\n",
    "plt.ylabel('loss')\n",
    "plt.title('training and validation loss curves')\n",
    "plt.legend()\n",
    "plt.show()"
   ]
  },
  {
   "cell_type": "code",
   "execution_count": 32,
   "id": "c985f6ae-e103-4cdf-babe-c6b3e54d41e5",
   "metadata": {},
   "outputs": [
    {
     "data": {
      "image/png": "[encoded data removed]",
      "text/plain": [
       "<Figure size 640x480 with 1 Axes>"
      ]
     },
     "metadata": {},
     "output_type": "display_data"
    }
   ],
   "source": [
    "f2 = plt.figure()\n",
    "plt.plot(iters, val_recall_at_ks, label='recall_at_k')\n",
    "plt.xlabel('iteration')\n",
    "plt.ylabel('recall_at_k')\n",
    "plt.title('recall_at_k curves')\n",
    "plt.show()"
   ]
  },
  {
   "cell_type": "code",
   "execution_count": 33,
   "id": "55154188-967c-4eb4-895a-409d99ecb9ef",
   "metadata": {},
   "outputs": [
    {
     "name": "stdout",
     "output_type": "stream",
     "text": [
      "[test_loss: -1208.10474, test_recall@20: 0.11809, test_precision@20: 0.04312, test_ndcg@20: 0.09088\n"
     ]
    }
   ],
   "source": [
    "# evaluate on test set\n",
    "model.eval()\n",
    "test_edge_index = test_edge_index.to(device)\n",
    "\n",
    "test_loss, test_recall, test_precision, test_ndcg = evaluation(model, \n",
    "                                                               test_edge_index, \n",
    "                                                               [train_edge_index, val_edge_index], \n",
    "                                                               K, \n",
    "                                                               LAMBDA)\n",
    "\n",
    "print(f\"[test_loss: {round(test_loss, 5)}, test_recall@{K}: {round(test_recall, 5)}, test_precision@{K}: {round(test_precision, 5)}, test_ndcg@{K}: {round(test_ndcg, 5)}\")"
   ]
  }
 ],
 "metadata": {
  "kernelspec": {
   "display_name": "Python 3 (ipykernel)",
   "language": "python",
   "name": "python3"
  },
  "language_info": {
   "codemirror_mode": {
    "name": "ipython",
    "version": 3
   },
   "file_extension": ".py",
   "mimetype": "text/x-python",
   "name": "python",
   "nbconvert_exporter": "python",
   "pygments_lexer": "ipython3",
   "version": "3.8.18"
  }
 },
 "nbformat": 4,
 "nbformat_minor": 5
}
