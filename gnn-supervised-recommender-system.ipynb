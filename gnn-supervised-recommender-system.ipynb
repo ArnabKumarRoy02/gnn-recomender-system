{
 "cells": [
  {
   "cell_type": "markdown",
   "id": "ff86794a-a0e8-4939-b065-7afa93262223",
   "metadata": {},
   "source": [
    "# Importing required libraries and modules"
   ]
  },
  {
   "cell_type": "code",
   "execution_count": 23,
   "id": "e379c351-fcd6-4052-9449-79dac6d21ad5",
   "metadata": {},
   "outputs": [],
   "source": [
    "import copy\n",
    "import random\n",
    "import numpy as np\n",
    "import pandas as pd\n",
    "from tqdm.notebook import tqdm\n",
    "import matplotlib.pyplot as plt\n",
    "from collections import defaultdict\n",
    "from sklearn.model_selection import train_test_split\n",
    "from sklearn import model_selection, metrics, preprocessing\n",
    "\n",
    "import torch\n",
    "from torch import nn, optim, Tensor\n",
    "from torch_sparse import SparseTensor, matmul\n",
    "from torch_geometric.utils import structured_negative_sampling\n",
    "from torch_geometric.data import download_url, extract_zip\n",
    "from torch_geometric.nn.conv.gcn_conv import gcn_norm\n",
    "from torch_geometric.nn.conv import MessagePassing\n",
    "from torch_geometric.typing import Adj"
   ]
  },
  {
   "cell_type": "code",
   "execution_count": 2,
   "id": "580ea845-cd56-4fdc-abc3-006d278d27ee",
   "metadata": {},
   "outputs": [],
   "source": [
    "movie_path = './ml-latest-small/movies.csv'\n",
    "rating_path = './ml-latest-small/ratings.csv'\n",
    "user_path = './ml-latest-small/links.csv'"
   ]
  },
  {
   "cell_type": "code",
   "execution_count": 3,
   "id": "515fee64-b7ae-42ce-8302-2c2b664f8738",
   "metadata": {},
   "outputs": [],
   "source": [
    "rating_df = pd.read_csv(rating_path)\n",
    "\n",
    "lbl_user = preprocessing.LabelEncoder()\n",
    "lbl_movie = preprocessing.LabelEncoder()\n",
    "\n",
    "rating_df.userId = lbl_user.fit_transform(rating_df.userId.values)\n",
    "rating_df.movieId = lbl_movie.fit_transform(rating_df.movieId.values)"
   ]
  },
  {
   "cell_type": "code",
   "execution_count": 4,
   "id": "2a745dc4-1b6d-423e-b7b6-0f74aca246c6",
   "metadata": {},
   "outputs": [
    {
     "name": "stdout",
     "output_type": "stream",
     "text": [
      "609\n",
      "9723\n"
     ]
    }
   ],
   "source": [
    "print(rating_df.userId.max())\n",
    "print(rating_df.movieId.max())"
   ]
  },
  {
   "cell_type": "code",
   "execution_count": 5,
   "id": "4684f165-234f-4107-9884-4c41c099ab86",
   "metadata": {},
   "outputs": [],
   "source": [
    "# load edges between users and movies\n",
    "def load_edge_csv(df, \n",
    "                  src_index_col, \n",
    "                  dst_index_col,  \n",
    "                  link_index_col, \n",
    "                  rating_threshold=3.5):\n",
    "    \"\"\"Loads csv containing edges between users and items\n",
    "\n",
    "    Args:\n",
    "        path (str): path to csv file\n",
    "        src_index_col (str): column name of users\n",
    "        src_mapping (dict): mapping between row number and user id\n",
    "        dst_index_col (str): column name of items\n",
    "        dst_mapping (dict): mapping between row number and item id\n",
    "        link_index_col (str): column name of user item interaction\n",
    "        rating_threshold (int, optional): Threshold to determine positivity of edge. Defaults to 4.\n",
    "\n",
    "    Returns:\n",
    "        torch.Tensor: 2 by N matrix containing the node ids of N user-item edges\n",
    "    \"\"\"\n",
    "    \n",
    "    edge_index = None\n",
    "    src = [user_id for user_id in  df['userId']]\n",
    "    \n",
    "    num_users = len(df['userId'].unique())\n",
    "\n",
    "    dst = [(movie_id) for movie_id in df['movieId']]\n",
    "    \n",
    "    link_vals = df[link_index_col].values\n",
    "\n",
    "    edge_attr = torch.from_numpy(df[link_index_col].values).view(-1, 1).to(torch.long) >= rating_threshold\n",
    "\n",
    "    edge_values = []\n",
    "\n",
    "    edge_index = [[], []]\n",
    "    for i in range(edge_attr.shape[0]):\n",
    "        if edge_attr[i]:\n",
    "            edge_index[0].append(src[i])\n",
    "            edge_index[1].append(dst[i])\n",
    "            edge_values.append(link_vals[i])\n",
    "\n",
    "    # edge_values is the label we will use for compute training loss                \n",
    "    return edge_index, edge_values"
   ]
  },
  {
   "cell_type": "code",
   "execution_count": 6,
   "id": "f670f573-6264-456a-a5cf-e6da8ddacb7f",
   "metadata": {},
   "outputs": [],
   "source": [
    "\n",
    "edge_index, edge_values = load_edge_csv(\n",
    "    rating_df,\n",
    "    src_index_col='userId',\n",
    "    dst_index_col='movieId',\n",
    "    link_index_col='rating',\n",
    "    rating_threshold=1 # need to use threshold=1 so the model can learn based on RMSE\n",
    ")"
   ]
  },
  {
   "cell_type": "code",
   "execution_count": 7,
   "id": "3c8662b3-6914-4a51-af80-0b20c1a4ffe0",
   "metadata": {},
   "outputs": [
    {
     "name": "stdout",
     "output_type": "stream",
     "text": [
      "tensor([[   0,    0,    0,  ...,  609,  609,  609],\n",
      "        [   0,    2,    5,  ..., 9444, 9445, 9485]])\n",
      "torch.Size([2, 99466])\n",
      "tensor([4., 4., 4.,  ..., 5., 5., 3.], dtype=torch.float64)\n",
      "torch.Size([99466])\n"
     ]
    }
   ],
   "source": [
    "# Convert to tensor\n",
    "# We use LongTensor here because the .propagate() method in the model needs either LongTensor or SparseTensor\n",
    "edge_index = torch.LongTensor(edge_index) \n",
    "edge_values = torch.tensor(edge_values)\n",
    "\n",
    "print(edge_index)\n",
    "print(edge_index.size())\n",
    "\n",
    "print(edge_values)\n",
    "print(edge_values.size())"
   ]
  },
  {
   "cell_type": "code",
   "execution_count": 8,
   "id": "8a55ffd5-929d-412d-a764-696d83062019",
   "metadata": {},
   "outputs": [
    {
     "name": "stdout",
     "output_type": "stream",
     "text": [
      "num_users 610, num_movies 9724\n"
     ]
    }
   ],
   "source": [
    "# split the edges of the graph using a 80/10/10 train/validation/test split\n",
    "# num_users, num_movies = len(user_mapping), len(movie_mapping)\n",
    "\n",
    "num_users = len(rating_df['userId'].unique())\n",
    "num_movies = len(rating_df['movieId'].unique())\n",
    "\n",
    "print(f\"num_users {num_users}, num_movies {num_movies}\")"
   ]
  },
  {
   "cell_type": "code",
   "execution_count": 9,
   "id": "b67da732-058c-47b4-a4c1-0b519746abc6",
   "metadata": {},
   "outputs": [],
   "source": [
    "def convert_r_mat_edge_index_to_adj_mat_edge_index(input_edge_index, input_edge_values):\n",
    "    R = torch.zeros((num_users, num_movies))\n",
    "    for i in range(len(input_edge_index[0])):\n",
    "        row_idx = input_edge_index[0][i]\n",
    "        col_idx = input_edge_index[1][i]\n",
    "        R[row_idx][col_idx] = input_edge_values[i] # assign actual edge value to Interaction Matrix\n",
    "\n",
    "    R_transpose = torch.transpose(R, 0, 1)\n",
    "    \n",
    "    # create adj_matrix\n",
    "    adj_mat = torch.zeros((num_users + num_movies , num_users + num_movies))\n",
    "    adj_mat[: num_users, num_users :] = R.clone()\n",
    "    adj_mat[num_users :, : num_users] = R_transpose.clone()\n",
    "    \n",
    "    adj_mat_coo = adj_mat.to_sparse_coo()\n",
    "    adj_mat_coo_indices = adj_mat_coo.indices()\n",
    "    adj_mat_coo_values = adj_mat_coo.values()\n",
    "    return adj_mat_coo_indices, adj_mat_coo_values"
   ]
  },
  {
   "cell_type": "code",
   "execution_count": 10,
   "id": "516888b7-38b4-460b-8cf7-3724e0ce4c81",
   "metadata": {},
   "outputs": [],
   "source": [
    "def convert_adj_mat_edge_index_to_r_mat_edge_index(input_edge_index, input_edge_values):\n",
    "    \n",
    "    sparse_input_edge_index = SparseTensor(row=input_edge_index[0], \n",
    "                                           col=input_edge_index[1], \n",
    "                                           value = input_edge_values,\n",
    "                                           sparse_sizes=((num_users + num_movies), num_users + num_movies))\n",
    "    \n",
    "    adj_mat = sparse_input_edge_index.to_dense()\n",
    "    interact_mat = adj_mat[: num_users, num_users :]\n",
    "    \n",
    "    r_mat_edge_index = interact_mat.to_sparse_coo().indices()\n",
    "    r_mat_edge_values = interact_mat.to_sparse_coo().values()\n",
    "    \n",
    "    return r_mat_edge_index, r_mat_edge_values"
   ]
  },
  {
   "cell_type": "code",
   "execution_count": 11,
   "id": "4bfd38a7-5fb1-4cdd-9b15-a9d717177875",
   "metadata": {},
   "outputs": [],
   "source": [
    "num_interactions = edge_index.shape[1]\n",
    "all_indices = [i for i in range(num_interactions)]\n",
    "\n",
    "train_indices, test_indices = train_test_split(all_indices, \n",
    "                                               test_size=0.2, \n",
    "                                               random_state=1)\n",
    "\n",
    "val_indices, test_indices = train_test_split(test_indices, \n",
    "                                             test_size=0.5, \n",
    "                                             random_state=1)"
   ]
  },
  {
   "cell_type": "code",
   "execution_count": 12,
   "id": "e194a5bb-dd93-4d90-b5dc-f15447ba013a",
   "metadata": {},
   "outputs": [],
   "source": [
    "train_edge_index = edge_index[:, train_indices]\n",
    "train_edge_value = edge_values[train_indices]\n",
    "\n",
    "val_edge_index = edge_index[:, val_indices]\n",
    "val_edge_value = edge_values[val_indices]\n",
    "\n",
    "test_edge_index = edge_index[:, test_indices]\n",
    "test_edge_value = edge_values[test_indices]"
   ]
  },
  {
   "cell_type": "code",
   "execution_count": 13,
   "id": "1678db7e-474a-4bfc-8108-0d2459f06856",
   "metadata": {},
   "outputs": [
    {
     "name": "stdout",
     "output_type": "stream",
     "text": [
      "num_users 610, num_movies 9724, num_interactions 99466\n",
      "train_edge_index tensor([[ 239,  102,  225,  ...,   34,  488,  609],\n",
      "        [ 274, 9006,  792,  ...,  260, 1486, 3867]])\n",
      "10334\n",
      "torch.Size([610])\n",
      "torch.Size([8898])\n",
      "tensor([4.5000, 3.5000, 3.5000,  ..., 3.5000, 5.0000, 1.0000],\n",
      "       dtype=torch.float64)\n",
      "torch.Size([9947])\n"
     ]
    }
   ],
   "source": [
    "print(f\"num_users {num_users}, num_movies {num_movies}, num_interactions {num_interactions}\")\n",
    "print(f\"train_edge_index {train_edge_index}\")\n",
    "print((num_users + num_movies))\n",
    "print(torch.unique(train_edge_index[0]).size())\n",
    "print(torch.unique(train_edge_index[1]).size())\n",
    "\n",
    "print(test_edge_value)\n",
    "print(test_edge_value.size())"
   ]
  },
  {
   "cell_type": "code",
   "execution_count": 14,
   "id": "2f388a5b-20ad-4688-8c7b-45848a457e05",
   "metadata": {},
   "outputs": [],
   "source": [
    "train_edge_index, train_edge_values  = convert_r_mat_edge_index_to_adj_mat_edge_index(train_edge_index, train_edge_value)\n",
    "val_edge_index, val_edge_values = convert_r_mat_edge_index_to_adj_mat_edge_index(val_edge_index, val_edge_value)\n",
    "test_edge_index, test_edge_values = convert_r_mat_edge_index_to_adj_mat_edge_index(test_edge_index, test_edge_value)"
   ]
  },
  {
   "cell_type": "code",
   "execution_count": 15,
   "id": "e3fe843c-87cb-4f3a-99b9-9c397a68073d",
   "metadata": {},
   "outputs": [
    {
     "name": "stdout",
     "output_type": "stream",
     "text": [
      "tensor([[    0,     0,     0,  ..., 10331, 10332, 10333],\n",
      "        [  610,   615,   653,  ...,   183,   183,   330]])\n",
      "torch.Size([2, 159144])\n",
      "tensor([[    0,     0,     0,  ..., 10312, 10316, 10327],\n",
      "        [  612,   699,   924,  ...,   247,    49,   183]])\n",
      "torch.Size([2, 19894])\n",
      "tensor([[    0,     0,     0,  ..., 10302, 10307, 10310],\n",
      "        [  656,   734,   746,  ...,   513,   211,   337]])\n",
      "torch.Size([2, 19894])\n",
      "\n",
      " train_edge_values: \n",
      " tensor([4.0000, 4.0000, 5.0000,  ..., 3.5000, 3.5000, 4.0000]) \n",
      " torch.Size([159144])\n",
      "\n",
      " val_edge_values: \n",
      " tensor([4.0000, 5.0000, 4.0000,  ..., 3.5000, 3.5000, 4.0000]) \n",
      " torch.Size([19894])\n",
      "\n",
      " test_edge_values: \n",
      " tensor([5.0000, 5.0000, 5.0000,  ..., 3.0000, 4.5000, 2.5000]) \n",
      " torch.Size([19894])\n"
     ]
    }
   ],
   "source": [
    "print(train_edge_index)\n",
    "print(train_edge_index.size())\n",
    "print(val_edge_index)\n",
    "print(val_edge_index.size())\n",
    "print(test_edge_index)\n",
    "print(test_edge_index.size())\n",
    "\n",
    "print(f\"\\n train_edge_values: \\n {train_edge_values} \\n {train_edge_values.size()}\")\n",
    "print(f\"\\n val_edge_values: \\n {val_edge_values} \\n {val_edge_values.size()}\")\n",
    "print(f\"\\n test_edge_values: \\n {test_edge_values} \\n {test_edge_values.size()}\")"
   ]
  },
  {
   "cell_type": "code",
   "execution_count": 16,
   "id": "077dc2c5-3722-4693-922a-4b548d222987",
   "metadata": {},
   "outputs": [],
   "source": [
    "# defines LightGCN model\n",
    "class LightGCN(MessagePassing):\n",
    "    \"\"\"LightGCN Model as proposed in https://arxiv.org/abs/2002.02126\n",
    "    \"\"\"\n",
    "\n",
    "    def __init__(self, num_users, num_items, embedding_dim=64, K=3, add_self_loops=False, dropout_rate=0.1):\n",
    "        \"\"\"Initializes LightGCN Model\n",
    "\n",
    "        Args:\n",
    "            num_users (int): Number of users\n",
    "            num_items (int): Number of items\n",
    "            embedding_dim (int, optional): Dimensionality of embeddings. Defaults to 8.\n",
    "            K (int, optional): Number of message passing layers. Defaults to 3.\n",
    "            add_self_loops (bool, optional): Whether to add self loops for message passing. Defaults to False.\n",
    "        \"\"\"\n",
    "        super().__init__()\n",
    "        self.dropout_rate = dropout_rate\n",
    "        self.num_users = num_users\n",
    "        self.num_items = num_items\n",
    "        self.embedding_dim = embedding_dim\n",
    "        self.K = K\n",
    "        self.add_self_loops = add_self_loops\n",
    "\n",
    "\n",
    "        # define user and item embedding for direct look up. \n",
    "        # embedding dimension: num_user/num_item x embedding_dim\n",
    "        self.users_emb = nn.Embedding(num_embeddings=self.num_users, embedding_dim=self.embedding_dim) # e_u^0\n",
    "        \n",
    "        self.items_emb = nn.Embedding(num_embeddings=self.num_items, embedding_dim=self.embedding_dim) # e_i^0\n",
    "\n",
    "        \n",
    "        # \"Fills the input Tensor with values drawn from the normal distribution\"\n",
    "        # according to LightGCN paper, this gives better performance\n",
    "        nn.init.normal_(self.users_emb.weight, std=0.1)\n",
    "        nn.init.normal_(self.items_emb.weight, std=0.1)\n",
    "        \n",
    "        # create a linear layer (fully connected layer) so we can output a single value (predicted_rating)\n",
    "        self.out = nn.Linear(embedding_dim + embedding_dim, 1)\n",
    "\n",
    "    def forward(self, edge_index: Tensor, edge_values: Tensor):\n",
    "        \"\"\"Forward propagation of LightGCN Model.\n",
    "\n",
    "        Args:\n",
    "            edge_index (SparseTensor): adjacency matrix\n",
    "\n",
    "        Returns:\n",
    "            tuple (Tensor): e_u_k, e_u_0, e_i_k, e_i_0\n",
    "        \"\"\"\n",
    "        \n",
    "        \"\"\"\n",
    "            compute \\tilde{A}: symmetrically normalized adjacency matrix\n",
    "            \\tilde_A = D^(-1/2) * A * D^(-1/2)    according to LightGCN paper\n",
    "        \n",
    "            this is essentially a metrix operation way to get 1/ (sqrt(n_neighbors_i) * sqrt(n_neighbors_j))\n",
    "\n",
    "        \n",
    "            if your original edge_index look like\n",
    "            tensor([[   0,    0,    0,  ...,  609,  609,  609],\n",
    "                    [   0,    2,    5,  ..., 9444, 9445, 9485]])\n",
    "                    \n",
    "                    torch.Size([2, 99466])\n",
    "                    \n",
    "            then this will output: \n",
    "                (\n",
    "                 tensor([[   0,    0,    0,  ...,  609,  609,  609],\n",
    "                         [   0,    2,    5,  ..., 9444, 9445, 9485]]), \n",
    "                 tensor([0.0047, 0.0096, 0.0068,  ..., 0.0592, 0.0459, 0.1325])\n",
    "                 )\n",
    "                 \n",
    "              where edge_index_norm[0] is just the original edge_index\n",
    "              \n",
    "              and edge_index_norm[1] is the symmetrically normalization term. \n",
    "              \n",
    "            under the hood it's basically doing\n",
    "                def compute_gcn_norm(edge_index, emb):\n",
    "                    emb = emb.weight\n",
    "                    from_, to_ = edge_index\n",
    "                    deg = degree(to_, emb.size(0), dtype=emb.dtype)\n",
    "                    deg_inv_sqrt = deg.pow(-0.5)\n",
    "                    deg_inv_sqrt[deg_inv_sqrt == float('inf')] = 0\n",
    "                    norm = deg_inv_sqrt[from_] * deg_inv_sqrt[to_]\n",
    "\n",
    "                    return norm\n",
    "                 \n",
    "                \n",
    "        \"\"\"\n",
    "        edge_index_norm = gcn_norm(edge_index=edge_index, \n",
    "                                   add_self_loops=self.add_self_loops)\n",
    "\n",
    "        # concat the user_emb and item_emb as the layer0 embing matrix\n",
    "        # size will be (n_users + n_items) x emb_vector_len.   e.g: 10334 x 64\n",
    "        emb_0 = torch.cat([self.users_emb.weight, self.items_emb.weight]) # E^0\n",
    "\n",
    "        embs = [emb_0] # save the layer0 emb to the embs list\n",
    "        \n",
    "        # emb_k is the emb that we are actually going to push it through the graph layers\n",
    "        # as described in lightGCN paper formula 7\n",
    "        emb_k = emb_0 \n",
    "\n",
    "        # push the embedding of all users and items through the Graph Model K times.\n",
    "        # K here is the number of layers\n",
    "        for i in range(self.K):\n",
    "            emb_k = self.propagate(edge_index=edge_index_norm[0], x=emb_k, norm=edge_index_norm[1])\n",
    "            embs.append(emb_k)\n",
    "            \n",
    "            \n",
    "        # this is doing the formula8 in LightGCN paper  \n",
    "            \n",
    "        # the stacked embs is a list of embedding matrix at each layer\n",
    "        #    it's of shape n_nodes x (n_layers + 1) x emb_vector_len. \n",
    "        #        e.g: torch.Size([10334, 4, 64])\n",
    "        embs = torch.stack(embs, dim=1)\n",
    "        \n",
    "        # From LightGCn paper: \"In our experiments, we find that setting α_k uniformly as 1/(K + 1)\n",
    "        #    leads to good performance in general.\"\n",
    "        emb_final = torch.mean(embs, dim=1) # E^K\n",
    "        \n",
    "        users_emb_final, items_emb_final = torch.split(emb_final, \n",
    "                                                       [self.num_users, self.num_items]) # splits into e_u^K and e_i^K\n",
    "\n",
    "\n",
    "        r_mat_edge_index, _ = convert_adj_mat_edge_index_to_r_mat_edge_index(edge_index, edge_values)\n",
    "        \n",
    "        src, dest =  r_mat_edge_index[0], r_mat_edge_index[1]\n",
    "        \n",
    "        # applying embedding lookup to get embeddings for src nodes and dest nodes in the edge list\n",
    "        user_embeds = users_emb_final[src]\n",
    "        item_embeds = items_emb_final[dest]\n",
    "        \n",
    "        # output dim: edge_index_len x 128 (given 64 is the original emb_vector_len)\n",
    "        output = torch.cat([user_embeds, item_embeds], dim=1)\n",
    "        \n",
    "        # push it through the linear layer\n",
    "        output = self.out(output)\n",
    "        \n",
    "        return output\n",
    "    \n",
    "    def message(self, x_j, norm):\n",
    "        return norm.view(-1, 1) * x_j\n",
    "\n",
    "layers = 1 \n",
    "model = LightGCN(num_users=num_users, \n",
    "                 num_items=num_movies, \n",
    "                 K=layers)"
   ]
  },
  {
   "cell_type": "code",
   "execution_count": 17,
   "id": "57a94f0d-3899-44f5-a89e-2ce5e63ee0e5",
   "metadata": {},
   "outputs": [],
   "source": [
    "# define contants\n",
    "ITERATIONS = 10000\n",
    "EPOCHS = 10\n",
    "\n",
    "BATCH_SIZE = 1024\n",
    "\n",
    "LR = 1e-3\n",
    "ITERS_PER_EVAL = 200\n",
    "ITERS_PER_LR_DECAY = 200\n",
    "K = 10\n",
    "LAMBDA = 1e-6\n"
   ]
  },
  {
   "cell_type": "code",
   "execution_count": 18,
   "id": "8afdde31-2a2b-4db4-88c1-0e5e4cc10bd1",
   "metadata": {},
   "outputs": [
    {
     "name": "stdout",
     "output_type": "stream",
     "text": [
      "BATCH_SIZE 1024\n"
     ]
    }
   ],
   "source": [
    "print(f\"BATCH_SIZE {BATCH_SIZE}\")"
   ]
  },
  {
   "cell_type": "code",
   "execution_count": 19,
   "id": "829d24df-4f53-494f-ac37-4ae6803a8bab",
   "metadata": {},
   "outputs": [
    {
     "name": "stdout",
     "output_type": "stream",
     "text": [
      "Using device cpu.\n"
     ]
    }
   ],
   "source": [
    "# setup\n",
    "device = torch.device('cuda' if torch.cuda.is_available() else 'cpu')\n",
    "print(f\"Using device {device}.\")\n",
    "\n",
    "\n",
    "model = model.to(device)\n",
    "model.train()\n",
    "\n",
    "# add decay to avoid overfit\n",
    "optimizer = optim.Adam(model.parameters(), lr=LR, weight_decay=0.01)\n",
    "\n",
    "scheduler = optim.lr_scheduler.ExponentialLR(optimizer, gamma=0.95)\n",
    "\n",
    "edge_index = edge_index.to(device)\n",
    "train_edge_index = train_edge_index.to(device)\n",
    "val_edge_index = val_edge_index.to(device)\n",
    "\n",
    "\n",
    "loss_func = nn.MSELoss()"
   ]
  },
  {
   "cell_type": "code",
   "execution_count": 20,
   "id": "c6e7238a-0a2f-4e77-9543-1865ab54e91e",
   "metadata": {},
   "outputs": [],
   "source": [
    " def get_recall_at_k(input_edge_index, \n",
    "                     input_edge_values, # the true label of actual ratings for each user/item interaction\n",
    "                     pred_ratings, # the list of predicted ratings\n",
    "                     k=10, \n",
    "                     threshold=3.5):\n",
    "    with torch.no_grad():\n",
    "        user_item_rating_list = defaultdict(list)\n",
    "\n",
    "        for i in range(len(input_edge_index[0])):\n",
    "            src = input_edge_index[0][i].item()\n",
    "            dest = input_edge_index[1][i].item()\n",
    "            true_rating = input_edge_values[i].item()\n",
    "            pred_rating = pred_ratings[i].item()\n",
    "\n",
    "            user_item_rating_list[src].append((pred_rating, true_rating))\n",
    "\n",
    "        recalls = dict()\n",
    "        precisions = dict()\n",
    "\n",
    "        for user_id, user_ratings in user_item_rating_list.items():\n",
    "            user_ratings.sort(key=lambda x: x[0], reverse=True)\n",
    "\n",
    "            n_rel = sum((true_r >= threshold) for (_, true_r) in user_ratings)\n",
    "\n",
    "            n_rec_k = sum((est >= threshold) for (est, _) in user_ratings[:k])\n",
    "            \n",
    "            n_rel_and_rec_k = sum(\n",
    "                ((true_r >= threshold) and (est >= threshold))\n",
    "                for (est, true_r) in user_ratings[:k]\n",
    "            )\n",
    "\n",
    "            precisions[user_id] = n_rel_and_rec_k / n_rec_k if n_rec_k != 0 else 0\n",
    "            recalls[user_id] = n_rel_and_rec_k / n_rel if n_rel != 0 else 0\n",
    "\n",
    "        overall_recall = sum(rec for rec in recalls.values()) / len(recalls)\n",
    "        overall_precision = sum(prec for prec in precisions.values()) / len(precisions)\n",
    "\n",
    "        return overall_recall, overall_precision\n",
    "    "
   ]
  },
  {
   "cell_type": "code",
   "execution_count": 21,
   "id": "ba559a1a-1c75-458a-88df-5f69ac3a1750",
   "metadata": {},
   "outputs": [],
   "source": [
    "r_mat_train_edge_index, r_mat_train_edge_values = convert_adj_mat_edge_index_to_r_mat_edge_index(train_edge_index, train_edge_values)\n",
    "r_mat_val_edge_index, r_mat_val_edge_values = convert_adj_mat_edge_index_to_r_mat_edge_index(val_edge_index, val_edge_values)\n",
    "r_mat_test_edge_index, r_mat_test_edge_values = convert_adj_mat_edge_index_to_r_mat_edge_index(test_edge_index, test_edge_values)\n"
   ]
  },
  {
   "cell_type": "code",
   "execution_count": 24,
   "id": "08b38f28-ccc9-48f8-a4cc-08ddc8f43ab8",
   "metadata": {},
   "outputs": [
    {
     "data": {
      "application/vnd.jupyter.widget-view+json": {
       "model_id": "ea5a6166836f4e8aaa594ad9c74da674",
       "version_major": 2,
       "version_minor": 0
      },
      "text/plain": [
       "  0%|          | 0/10000 [00:00<?, ?it/s]"
      ]
     },
     "metadata": {},
     "output_type": "display_data"
    },
    {
     "name": "stdout",
     "output_type": "stream",
     "text": [
      "[Iteration 0/10000], train_loss: 13.31158, val_loss: 13.2782,  recall_at_k 0.0, precision_at_k 0.0\n",
      "[Iteration 200/10000], train_loss: 2.37884, val_loss: 2.4882,  recall_at_k 0.01096, precision_at_k 0.10661\n",
      "[Iteration 400/10000], train_loss: 1.5371, val_loss: 1.60853,  recall_at_k 0.07248, precision_at_k 0.29417\n",
      "[Iteration 600/10000], train_loss: 1.29864, val_loss: 1.36274,  recall_at_k 0.11299, precision_at_k 0.36696\n",
      "[Iteration 800/10000], train_loss: 1.17646, val_loss: 1.23689,  recall_at_k 0.14421, precision_at_k 0.41536\n",
      "[Iteration 1000/10000], train_loss: 1.09881, val_loss: 1.15707,  recall_at_k 0.16736, precision_at_k 0.44011\n",
      "[Iteration 1200/10000], train_loss: 1.04385, val_loss: 1.10073,  recall_at_k 0.18581, precision_at_k 0.46065\n",
      "[Iteration 1400/10000], train_loss: 1.00237, val_loss: 1.0583,  recall_at_k 0.2007, precision_at_k 0.48059\n",
      "[Iteration 1600/10000], train_loss: 0.96969, val_loss: 1.02489,  recall_at_k 0.21564, precision_at_k 0.49016\n",
      "[Iteration 1800/10000], train_loss: 0.94315, val_loss: 0.99775,  recall_at_k 0.22682, precision_at_k 0.49661\n",
      "[Iteration 2000/10000], train_loss: 0.92111, val_loss: 0.97516,  recall_at_k 0.23561, precision_at_k 0.5014\n",
      "[Iteration 2200/10000], train_loss: 0.90253, val_loss: 0.956,  recall_at_k 0.24273, precision_at_k 0.50689\n",
      "[Iteration 2400/10000], train_loss: 0.88662, val_loss: 0.93955,  recall_at_k 0.25201, precision_at_k 0.51597\n",
      "[Iteration 2600/10000], train_loss: 0.87291, val_loss: 0.92523,  recall_at_k 0.25728, precision_at_k 0.51827\n",
      "[Iteration 2800/10000], train_loss: 0.86099, val_loss: 0.91267,  recall_at_k 0.26701, precision_at_k 0.52584\n",
      "[Iteration 3000/10000], train_loss: 0.85058, val_loss: 0.90159,  recall_at_k 0.27096, precision_at_k 0.52684\n",
      "[Iteration 3200/10000], train_loss: 0.84146, val_loss: 0.89175,  recall_at_k 0.27703, precision_at_k 0.53006\n",
      "[Iteration 3400/10000], train_loss: 0.83342, val_loss: 0.88302,  recall_at_k 0.2796, precision_at_k 0.53252\n",
      "[Iteration 3600/10000], train_loss: 0.82638, val_loss: 0.87516,  recall_at_k 0.28058, precision_at_k 0.52966\n",
      "[Iteration 3800/10000], train_loss: 0.82017, val_loss: 0.86815,  recall_at_k 0.28468, precision_at_k 0.53452\n",
      "[Iteration 4000/10000], train_loss: 0.8147, val_loss: 0.86187,  recall_at_k 0.28938, precision_at_k 0.53804\n",
      "[Iteration 4200/10000], train_loss: 0.80989, val_loss: 0.85624,  recall_at_k 0.29207, precision_at_k 0.54009\n",
      "[Iteration 4400/10000], train_loss: 0.80567, val_loss: 0.85119,  recall_at_k 0.2936, precision_at_k 0.54025\n",
      "[Iteration 4600/10000], train_loss: 0.80197, val_loss: 0.84667,  recall_at_k 0.2961, precision_at_k 0.5421\n",
      "[Iteration 4800/10000], train_loss: 0.79874, val_loss: 0.8426,  recall_at_k 0.29853, precision_at_k 0.54173\n",
      "[Iteration 5000/10000], train_loss: 0.79592, val_loss: 0.83895,  recall_at_k 0.303, precision_at_k 0.54401\n",
      "[Iteration 5200/10000], train_loss: 0.79345, val_loss: 0.83568,  recall_at_k 0.30422, precision_at_k 0.54402\n",
      "[Iteration 5400/10000], train_loss: 0.79132, val_loss: 0.83275,  recall_at_k 0.3046, precision_at_k 0.54214\n",
      "[Iteration 5600/10000], train_loss: 0.78947, val_loss: 0.83012,  recall_at_k 0.30983, precision_at_k 0.54711\n",
      "[Iteration 5800/10000], train_loss: 0.78786, val_loss: 0.82776,  recall_at_k 0.31102, precision_at_k 0.54718\n",
      "[Iteration 6000/10000], train_loss: 0.78648, val_loss: 0.82564,  recall_at_k 0.31284, precision_at_k 0.54953\n",
      "[Iteration 6200/10000], train_loss: 0.78528, val_loss: 0.82373,  recall_at_k 0.31453, precision_at_k 0.54981\n",
      "[Iteration 6400/10000], train_loss: 0.78425, val_loss: 0.82202,  recall_at_k 0.31497, precision_at_k 0.54992\n",
      "[Iteration 6600/10000], train_loss: 0.78338, val_loss: 0.82044,  recall_at_k 0.31804, precision_at_k 0.55219\n",
      "[Iteration 6800/10000], train_loss: 0.78259, val_loss: 0.81908,  recall_at_k 0.31894, precision_at_k 0.55426\n",
      "[Iteration 7000/10000], train_loss: 0.78192, val_loss: 0.81781,  recall_at_k 0.31901, precision_at_k 0.55438\n",
      "[Iteration 7200/10000], train_loss: 0.78133, val_loss: 0.81668,  recall_at_k 0.31887, precision_at_k 0.55451\n",
      "[Iteration 7400/10000], train_loss: 0.78083, val_loss: 0.81562,  recall_at_k 0.31957, precision_at_k 0.55434\n",
      "[Iteration 7600/10000], train_loss: 0.78038, val_loss: 0.81467,  recall_at_k 0.32018, precision_at_k 0.55625\n",
      "[Iteration 7800/10000], train_loss: 0.77998, val_loss: 0.81379,  recall_at_k 0.31997, precision_at_k 0.55617\n",
      "[Iteration 8000/10000], train_loss: 0.77964, val_loss: 0.81299,  recall_at_k 0.32059, precision_at_k 0.55622\n",
      "[Iteration 8200/10000], train_loss: 0.77933, val_loss: 0.81225,  recall_at_k 0.32151, precision_at_k 0.55819\n",
      "[Iteration 8400/10000], train_loss: 0.77904, val_loss: 0.81157,  recall_at_k 0.32143, precision_at_k 0.55889\n",
      "[Iteration 8600/10000], train_loss: 0.77879, val_loss: 0.81094,  recall_at_k 0.3216, precision_at_k 0.55892\n",
      "[Iteration 8800/10000], train_loss: 0.77861, val_loss: 0.8103,  recall_at_k 0.32364, precision_at_k 0.56093\n",
      "[Iteration 9000/10000], train_loss: 0.77834, val_loss: 0.80981,  recall_at_k 0.3244, precision_at_k 0.56255\n",
      "[Iteration 9200/10000], train_loss: 0.77815, val_loss: 0.8093,  recall_at_k 0.32456, precision_at_k 0.56247\n",
      "[Iteration 9400/10000], train_loss: 0.77795, val_loss: 0.80883,  recall_at_k 0.3261, precision_at_k 0.5647\n",
      "[Iteration 9600/10000], train_loss: 0.77779, val_loss: 0.80839,  recall_at_k 0.32778, precision_at_k 0.56683\n",
      "[Iteration 9800/10000], train_loss: 0.77763, val_loss: 0.80798,  recall_at_k 0.32778, precision_at_k 0.56719\n"
     ]
    }
   ],
   "source": [
    "# training loop\n",
    "train_losses = []\n",
    "val_losses = []\n",
    "val_recall_at_ks = []\n",
    "\n",
    "for iter in tqdm(range(ITERATIONS)):\n",
    "    # forward propagation\n",
    "\n",
    "    # the rating here is based on r_mat\n",
    "    pred_ratings = model.forward(train_edge_index, train_edge_values)\n",
    "    \n",
    "\n",
    "    train_loss = loss_func(pred_ratings, r_mat_train_edge_values.view(-1,1))    \n",
    "\n",
    "        \n",
    "    optimizer.zero_grad()\n",
    "    train_loss.backward()\n",
    "    optimizer.step()\n",
    "\n",
    "    # going over validation set\n",
    "    if iter % ITERS_PER_EVAL == 0:\n",
    "        model.eval()\n",
    "\n",
    "        with torch.no_grad():\n",
    "            val_pred_ratings = model.forward(val_edge_index, val_edge_values)\n",
    "            \n",
    "            val_loss = loss_func(val_pred_ratings, r_mat_val_edge_values.view(-1,1)).sum()\n",
    "            \n",
    "            recall_at_k, precision_at_k = get_recall_at_k(r_mat_val_edge_index, \n",
    "                                                          r_mat_val_edge_values, \n",
    "                                                          val_pred_ratings, \n",
    "                                                          k = 20\n",
    "                                                         )\n",
    "    \n",
    "                \n",
    "            val_recall_at_ks.append(round(recall_at_k, 5))\n",
    "            train_losses.append(train_loss.item())\n",
    "            val_losses.append(val_loss.item())\n",
    "        \n",
    "            print(f\"[Iteration {iter}/{ITERATIONS}], train_loss: {round(train_loss.item(), 5)}, val_loss: {round(val_loss.item(), 5)},  recall_at_k {round(recall_at_k, 5)}, precision_at_k {round(precision_at_k, 5)}\")\n",
    "\n",
    "        model.train()\n",
    "\n",
    "    if iter % ITERS_PER_LR_DECAY == 0 and iter != 0:\n",
    "        scheduler.step()"
   ]
  },
  {
   "cell_type": "markdown",
   "id": "87941d8c-c5bc-42f2-ab33-41d8204c9ac7",
   "metadata": {},
   "source": [
    "# Plot (RMSE)"
   ]
  },
  {
   "cell_type": "code",
   "execution_count": 25,
   "id": "9ddec2cb-eac4-4eec-a0be-f3cf93adaf47",
   "metadata": {},
   "outputs": [
    {
     "data": {
      "image/png": "[encoded data removed]",
      "text/plain": [
       "<Figure size 640x480 with 1 Axes>"
      ]
     },
     "metadata": {},
     "output_type": "display_data"
    }
   ],
   "source": [
    "iters = [iter * ITERS_PER_EVAL for iter in range(len(train_losses))]\n",
    "plt.plot(iters, train_losses, label='train')\n",
    "plt.plot(iters, val_losses, label='validation')\n",
    "plt.xlabel('iteration')\n",
    "plt.ylabel('loss')\n",
    "plt.title('training and validation loss curves')\n",
    "plt.legend()\n",
    "plt.show()"
   ]
  },
  {
   "cell_type": "code",
   "execution_count": 26,
   "id": "175ceda7-84c6-4752-b3e7-065c78c05508",
   "metadata": {},
   "outputs": [
    {
     "data": {
      "image/png": "[encoded data removed]",
      "text/plain": [
       "<Figure size 640x480 with 1 Axes>"
      ]
     },
     "metadata": {},
     "output_type": "display_data"
    }
   ],
   "source": [
    "f2 = plt.figure()\n",
    "plt.plot(iters, val_recall_at_ks, label='recall_at_k')\n",
    "plt.xlabel('iteration')\n",
    "plt.ylabel('recall_at_k')\n",
    "plt.title('recall_at_k curves')\n",
    "plt.show()"
   ]
  }
 ],
 "metadata": {
  "kernelspec": {
   "display_name": "Python 3 (ipykernel)",
   "language": "python",
   "name": "python3"
  },
  "language_info": {
   "codemirror_mode": {
    "name": "ipython",
    "version": 3
   },
   "file_extension": ".py",
   "mimetype": "text/x-python",
   "name": "python",
   "nbconvert_exporter": "python",
   "pygments_lexer": "ipython3",
   "version": "3.8.18"
  }
 },
 "nbformat": 4,
 "nbformat_minor": 5
}
